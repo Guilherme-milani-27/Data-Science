{
 "cells": [
  {
   "cell_type": "markdown",
   "id": "a0a239eb",
   "metadata": {},
   "source": [
    "# Importando a bibilioteca"
   ]
  },
  {
   "cell_type": "code",
   "execution_count": 1,
   "id": "134e6660",
   "metadata": {},
   "outputs": [],
   "source": [
    "from fpdf import FPDF"
   ]
  },
  {
   "cell_type": "markdown",
   "id": "1901f80b",
   "metadata": {},
   "source": [
    "# Descrição do orçamento"
   ]
  },
  {
   "cell_type": "code",
   "execution_count": 2,
   "id": "e38522c2",
   "metadata": {},
   "outputs": [
    {
     "name": "stdout",
     "output_type": "stream",
     "text": [
      "Digite a descrição do projeto: Desenvolvimento Python\n",
      "Digite o total de horas estimadas: 100\n",
      "Digite o valor da hora trabalhada: 30\n",
      "Digite o prazo estimado: 6 meses\n"
     ]
    }
   ],
   "source": [
    "projeto = input('Digite a descrição do projeto: ')\n",
    "horas_estimadas = float(input('Digite o total de horas estimadas: '))\n",
    "valor_hora = float(input('Digite o valor da hora trabalhada: '))\n",
    "prazo_estimado = input('Digite o prazo estimado: ')"
   ]
  },
  {
   "cell_type": "markdown",
   "id": "40bde253",
   "metadata": {},
   "source": [
    "# Cálculo do valor estimado"
   ]
  },
  {
   "cell_type": "code",
   "execution_count": 3,
   "id": "806826e3",
   "metadata": {},
   "outputs": [],
   "source": [
    "valor_total_estimado = horas_estimadas * valor_hora"
   ]
  },
  {
   "cell_type": "markdown",
   "id": "b1e41b6c",
   "metadata": {},
   "source": [
    "# Gerando pdf"
   ]
  },
  {
   "cell_type": "code",
   "execution_count": 4,
   "id": "b0f7dd90",
   "metadata": {},
   "outputs": [],
   "source": [
    "pdf = FPDF()\n",
    "pdf.add_page()\n",
    "pdf.set_font('Arial')\n",
    "pdf.image('template.png', x=0, y=0)\n",
    "pdf.text(115, 145, projeto)\n",
    "pdf.text(115, 160, str(horas_estimadas))\n",
    "pdf.text(115, 175, str(valor_hora))\n",
    "pdf.text(115, 190, prazo_estimado)\n",
    "pdf.text(115, 205, str(valor_total_estimado))"
   ]
  },
  {
   "cell_type": "code",
   "execution_count": 5,
   "id": "43fbcf69",
   "metadata": {},
   "outputs": [
    {
     "name": "stdout",
     "output_type": "stream",
     "text": [
      "Orçamento gerado com sucesso!\n"
     ]
    }
   ],
   "source": [
    "pdf.output('orçamento.pdf')\n",
    "print('Orçamento gerado com sucesso!')"
   ]
  }
 ],
 "metadata": {
  "kernelspec": {
   "display_name": "Python 3 (ipykernel)",
   "language": "python",
   "name": "python3"
  },
  "language_info": {
   "codemirror_mode": {
    "name": "ipython",
    "version": 3
   },
   "file_extension": ".py",
   "mimetype": "text/x-python",
   "name": "python",
   "nbconvert_exporter": "python",
   "pygments_lexer": "ipython3",
   "version": "3.9.13"
  }
 },
 "nbformat": 4,
 "nbformat_minor": 5
}
