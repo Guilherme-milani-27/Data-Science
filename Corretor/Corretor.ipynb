{
 "cells": [
  {
   "cell_type": "markdown",
   "id": "54efa38b",
   "metadata": {},
   "source": [
    "# Importando bibliotecas"
   ]
  },
  {
   "cell_type": "code",
   "execution_count": 7,
   "id": "6df2a770",
   "metadata": {},
   "outputs": [],
   "source": [
    "import nltk\n",
    "import pandas as pd"
   ]
  },
  {
   "cell_type": "markdown",
   "id": "9f718999",
   "metadata": {},
   "source": [
    "# Importando o banco de palavras"
   ]
  },
  {
   "cell_type": "code",
   "execution_count": 8,
   "id": "a0505e9e",
   "metadata": {},
   "outputs": [],
   "source": [
    "banco = pd.read_csv('arquivo1.csv')\n",
    "lista = banco['0'].tolist()"
   ]
  },
  {
   "cell_type": "markdown",
   "id": "ee9741a1",
   "metadata": {},
   "source": [
    "## Funções"
   ]
  },
  {
   "cell_type": "code",
   "execution_count": 9,
   "id": "00fff7f5",
   "metadata": {},
   "outputs": [],
   "source": [
    " def insere_letras(fatias):\n",
    "    \"\"\"\n",
    "    Insere uma letra, como uma possível correção da palavra digitada, exemplo: 'lgica'.\n",
    "    \"\"\"\n",
    "    novas_palavras = []\n",
    "    letras = 'abcdefghijklmnopqrstuvwxyzàáâãèéêìíîòóôõùúûç'\n",
    "    for E, D in fatias:\n",
    "        for letra in letras:\n",
    "            novas_palavras.append(E + letra + D)\n",
    "    return novas_palavras\n",
    "\n",
    "\n",
    "def gerador_palavras(palavra):\n",
    "    \"\"\"\n",
    "    Gera diferentes combinações da palavra digitada, até que a palavra corrigida seja gerada.\n",
    "    \"\"\"\n",
    "    fatias = []\n",
    "    for i in range(len(palavra) + 1):\n",
    "        fatias.append((palavra[:i], palavra[i:]))\n",
    "    palavras_geradas = insere_letras(fatias)\n",
    "    palavras_geradas += deletando_caracteres(fatias)\n",
    "    palavras_geradas += troca_letras(fatias)\n",
    "    palavras_geradas += inverte_letras(fatias)\n",
    "    return palavras_geradas\n",
    "\n",
    "def corretor(palavra):\n",
    "    \"\"\"\n",
    "    Determina, com base em probabilidade, qual palavra tem a maior chance e estar correta.\n",
    "    \"\"\"\n",
    "    palavras_geradas = gerador_palavras(palavra)\n",
    "    palavra_correta = max(palavras_geradas, key=probabilidade)\n",
    "    return palavra_correta\n",
    "\n",
    "def probabilidade(p):\n",
    "    \"\"\"\n",
    "    Define a probabilidade de determinada palavra estar correta.\n",
    "    \"\"\"\n",
    "    return frequencia[p] / total_palavras\n",
    "\n",
    "def cria_dados_teste(nome_arquivo):\n",
    "    \"\"\"\n",
    "    Compara a palavra corrigida, com um banco de palavras secundário.\n",
    "    \"\"\"\n",
    "    lista_palavras_teste = []\n",
    "    f = open(nome_arquivo, encoding='utf-8')\n",
    "    for linha in f:\n",
    "        correta, errada = linha.split()\n",
    "        lista_palavras_teste.append((correta, errada))\n",
    "    f.close()\n",
    "    return lista_palavras_teste\n",
    "\n",
    "def avaliador (testes):\n",
    "    \"\"\"\n",
    "    Avalia a porcentagem de palavras corrigidas acertadas, feita pelo corretor.\n",
    "    \"\"\"\n",
    "    numero_palavras = len(testes)\n",
    "    acertou = 0\n",
    "    for correta, errada in testes:\n",
    "        palavra_corrigida = corretor(errada)\n",
    "        if palavra_corrigida == correta:\n",
    "            acertou += 1\n",
    "    taxa_acerto = round(acertou*100/numero_palavras, 2)\n",
    "    print(f'{taxa_acerto}% de {numero_palavras} palavras')\n",
    "    \n",
    "def deletando_caracteres(fatias):\n",
    "    \"\"\"\n",
    "    Deleta caracteres de palavras digitadas com uma letra a mais, exemplo: 'lóigica'\n",
    "    \"\"\"\n",
    "    novas_palavras = []\n",
    "    for E, D in fatias:\n",
    "        novas_palavras.append(E + D[1:])\n",
    "    return novas_palavras\n",
    "\n",
    "def troca_letras(fatias):\n",
    "    \"\"\"\n",
    "    Substitui um possível caractere, que não deveria estar na palavra, exemplo: 'lólica\n",
    "    \"\"\"\n",
    "    novas_palavras = []\n",
    "    letras = 'abcdefghijklmnopqrstuvwxyzàáâãèéêìíîòóôõùúûç'\n",
    "    for E, D in fatias:\n",
    "        for letra in letras:\n",
    "            novas_palavras.append(E + letra + D[1:])\n",
    "    return novas_palavras\n",
    "\n",
    "def inverte_letras(fatias):\n",
    "    \"\"\"\n",
    "    Troca a posição de letras digitada de forma errônea, exemplo: 'lóigca'\n",
    "    \"\"\"\n",
    "    novas_palavras = []\n",
    "    for E, D in fatias:\n",
    "        if len(D) > 1:\n",
    "            novas_palavras.append(E + D[1] + D[0] + D[2:])\n",
    "    return novas_palavras"
   ]
  },
  {
   "cell_type": "markdown",
   "id": "d51e8bc3",
   "metadata": {},
   "source": [
    "# Corretor"
   ]
  },
  {
   "cell_type": "code",
   "execution_count": 10,
   "id": "7fa0eac4",
   "metadata": {},
   "outputs": [
    {
     "name": "stdout",
     "output_type": "stream",
     "text": [
      "Digite uma palavra: comptador\n"
     ]
    }
   ],
   "source": [
    "palavra_exemplo = input('Digite uma palavra: ')"
   ]
  },
  {
   "cell_type": "code",
   "execution_count": 11,
   "id": "a460a1d0",
   "metadata": {},
   "outputs": [
    {
     "name": "stdout",
     "output_type": "stream",
     "text": [
      "computador\n"
     ]
    }
   ],
   "source": [
    "palavras_geradas = gerador_palavras(palavra_exemplo)\n",
    "lista_teste = cria_dados_teste('palavras.txt')\n",
    "frequencia = nltk.FreqDist(lista)\n",
    "total_palavras = len(lista)\n",
    "print(corretor(palavra_exemplo))"
   ]
  }
 ],
 "metadata": {
  "kernelspec": {
   "display_name": "Python 3 (ipykernel)",
   "language": "python",
   "name": "python3"
  },
  "language_info": {
   "codemirror_mode": {
    "name": "ipython",
    "version": 3
   },
   "file_extension": ".py",
   "mimetype": "text/x-python",
   "name": "python",
   "nbconvert_exporter": "python",
   "pygments_lexer": "ipython3",
   "version": "3.9.13"
  }
 },
 "nbformat": 4,
 "nbformat_minor": 5
}
