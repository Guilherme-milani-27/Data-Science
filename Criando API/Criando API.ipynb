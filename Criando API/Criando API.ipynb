{
 "cells": [
  {
   "cell_type": "markdown",
   "id": "852a12d0",
   "metadata": {},
   "source": [
    "# Importando biblioteca Requests"
   ]
  },
  {
   "cell_type": "code",
   "execution_count": 1,
   "id": "42e53190",
   "metadata": {},
   "outputs": [],
   "source": [
    "import requests"
   ]
  },
  {
   "cell_type": "markdown",
   "id": "44e61c26",
   "metadata": {},
   "source": [
    "## Acessando a API"
   ]
  },
  {
   "cell_type": "code",
   "execution_count": 5,
   "id": "a328960d",
   "metadata": {},
   "outputs": [
    {
     "name": "stdout",
     "output_type": "stream",
     "text": [
      "O valor total de vendas é R$3026.10\n"
     ]
    }
   ],
   "source": [
    "link = 'https://MinhaAPI.guilhermemilan2.repl.co'\n",
    "\n",
    "requisicao = requests.get(link)\n",
    "\n",
    "requisicao = requisicao.json()\n",
    "venda = requisicao['total_vendas']\n",
    "print(f'O valor total de vendas é R${venda:.2f}')"
   ]
  },
  {
   "cell_type": "markdown",
   "id": "7cde3089",
   "metadata": {},
   "source": [
    "### Código para criação da API"
   ]
  },
  {
   "cell_type": "markdown",
   "id": "d56b83ef",
   "metadata": {},
   "source": [
    "#### Plataforma Replit"
   ]
  },
  {
   "cell_type": "code",
   "execution_count": 1,
   "id": "367b3956",
   "metadata": {},
   "outputs": [
    {
     "data": {
      "text/plain": [
       "\"\\nimport pandas as pd\\nfrom flask import Flask, jsonify\\n\\napp = Flask(__name__)\\n\\n@app.route('/')\\ndef vendas():\\n  tabela = pd.read_csv('Advertise.csv')\\n  total_vendas = tabela['Vendas'].sum()\\n  resposta = {'total_vendas': total_vendas}\\n  return jsonify(resposta)\\n\\napp.run(host='0.0.0.0')\\n\""
      ]
     },
     "execution_count": 1,
     "metadata": {},
     "output_type": "execute_result"
    }
   ],
   "source": [
    "\"\"\"\n",
    "import pandas as pd\n",
    "from flask import Flask, jsonify\n",
    "\n",
    "app = Flask(__name__)\n",
    "\n",
    "@app.route('/')\n",
    "def vendas():\n",
    "  tabela = pd.read_csv('Advertise.csv')\n",
    "  total_vendas = tabela['Vendas'].sum()\n",
    "  resposta = {'total_vendas': total_vendas}\n",
    "  return jsonify(resposta)\n",
    "\n",
    "app.run(host='0.0.0.0')\n",
    "\"\"\"\n",
    "\n",
    "# https://replit.com/@GuilhermeMilan2/MinhaAPI#main.py"
   ]
  },
  {
   "cell_type": "code",
   "execution_count": null,
   "id": "176fe20d",
   "metadata": {},
   "outputs": [],
   "source": []
  }
 ],
 "metadata": {
  "kernelspec": {
   "display_name": "Python 3 (ipykernel)",
   "language": "python",
   "name": "python3"
  },
  "language_info": {
   "codemirror_mode": {
    "name": "ipython",
    "version": 3
   },
   "file_extension": ".py",
   "mimetype": "text/x-python",
   "name": "python",
   "nbconvert_exporter": "python",
   "pygments_lexer": "ipython3",
   "version": "3.9.13"
  }
 },
 "nbformat": 4,
 "nbformat_minor": 5
}
