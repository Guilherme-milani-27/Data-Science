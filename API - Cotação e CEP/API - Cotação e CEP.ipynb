{
 "cells": [
  {
   "cell_type": "markdown",
   "id": "9e5f569c",
   "metadata": {},
   "source": [
    "# Importando bibliotecas"
   ]
  },
  {
   "cell_type": "code",
   "execution_count": 3,
   "id": "25b27363",
   "metadata": {},
   "outputs": [],
   "source": [
    "import requests\n",
    "import json"
   ]
  },
  {
   "cell_type": "markdown",
   "id": "de8b8387",
   "metadata": {},
   "source": [
    "# Acessando API - Cotação dolar"
   ]
  },
  {
   "cell_type": "code",
   "execution_count": 19,
   "id": "6accdd43",
   "metadata": {},
   "outputs": [
    {
     "name": "stdout",
     "output_type": "stream",
     "text": [
      "O valor do dólar é R$ 5.1983\n"
     ]
    }
   ],
   "source": [
    "cotacoes = requests.get('https://economia.awesomeapi.com.br/last/USD-BRL')\n",
    "cotacoes = cotacoes.json()\n",
    "cotacoes = cotacoes['USDBRL']['bid']\n",
    "print(f'O valor do dólar é R$ {cotacoes}')"
   ]
  },
  {
   "cell_type": "markdown",
   "id": "b252d8d6",
   "metadata": {},
   "source": [
    "# Acessando API - CEP"
   ]
  },
  {
   "cell_type": "code",
   "execution_count": 27,
   "id": "269e1edb",
   "metadata": {},
   "outputs": [
    {
     "name": "stdout",
     "output_type": "stream",
     "text": [
      "Digite o código postal (CEP):16200803\n",
      "Rua General Osório, Birigüi SP\n"
     ]
    }
   ],
   "source": [
    "codigo = input('Digite o código postal (CEP):')\n",
    "cep = requests.get(f'https://cep.awesomeapi.com.br/json/{codigo}')\n",
    "cep = cep.json()\n",
    "rua = cep['address']\n",
    "cidade = cep['city']\n",
    "estado = cep['state']\n",
    "print(f'{rua}, {cidade} {estado}')"
   ]
  },
  {
   "cell_type": "code",
   "execution_count": null,
   "id": "6b377546",
   "metadata": {},
   "outputs": [],
   "source": []
  }
 ],
 "metadata": {
  "kernelspec": {
   "display_name": "Python 3 (ipykernel)",
   "language": "python",
   "name": "python3"
  },
  "language_info": {
   "codemirror_mode": {
    "name": "ipython",
    "version": 3
   },
   "file_extension": ".py",
   "mimetype": "text/x-python",
   "name": "python",
   "nbconvert_exporter": "python",
   "pygments_lexer": "ipython3",
   "version": "3.9.13"
  }
 },
 "nbformat": 4,
 "nbformat_minor": 5
}
